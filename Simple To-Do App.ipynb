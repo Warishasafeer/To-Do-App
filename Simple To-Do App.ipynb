{
 "cells": [
  {
   "cell_type": "code",
   "execution_count": 1,
   "metadata": {},
   "outputs": [
    {
     "name": "stdout",
     "output_type": "stream",
     "text": [
      "Elements in our list:\n",
      "\n",
      " Options: \n",
      "1: Add Elements.\n",
      "2: Delete Element.\n",
      "3: Delete All Elements.\n",
      "Note: Please give input in numbers e.g 1,2,3\n",
      "Enter your choice: 1\n",
      "Enter your elements: Breakfast\n",
      "Elements in our list:\n",
      "->Breakfast\n",
      "\n",
      " Options: \n",
      "1: Add Elements.\n",
      "2: Delete Element.\n",
      "3: Delete All Elements.\n",
      "Note: Please give input in numbers e.g 1,2,3\n",
      "Enter your choice: 1\n",
      "Enter your elements: Lunch\n",
      "Elements in our list:\n",
      "->Breakfast\n",
      "->Lunch\n",
      "\n",
      " Options: \n",
      "1: Add Elements.\n",
      "2: Delete Element.\n",
      "3: Delete All Elements.\n",
      "Note: Please give input in numbers e.g 1,2,3\n",
      "Enter your choice: 1\n",
      "Enter your elements: Dinner\n",
      "Elements in our list:\n",
      "->Breakfast\n",
      "->Lunch\n",
      "->Dinner\n",
      "\n",
      " Options: \n",
      "1: Add Elements.\n",
      "2: Delete Element.\n",
      "3: Delete All Elements.\n",
      "Note: Please give input in numbers e.g 1,2,3\n",
      "Enter your choice: 2\n",
      "Enter element to deleteLunch\n",
      "Elements in our list:\n",
      "->Breakfast\n",
      "->Dinner\n",
      "\n",
      " Options: \n",
      "1: Add Elements.\n",
      "2: Delete Element.\n",
      "3: Delete All Elements.\n",
      "Note: Please give input in numbers e.g 1,2,3\n",
      "Enter your choice: 4\n"
     ]
    }
   ],
   "source": [
    "elements=[]\n",
    "while True:\n",
    "    print(\"Elements in our list:\")\n",
    "    for element in elements:\n",
    "        print(\"->\" + element)\n",
    "\n",
    "    print(\"\\n Options: \")\n",
    "    print(\"1: Add Elements.\")\n",
    "    print(\"2: Delete Element.\")\n",
    "    print(\"3: Delete All Elements.\")\n",
    "    print(\"Note: Please give input in numbers e.g 1,2,3\")\n",
    "    inp= input(\"Enter your choice: \")\n",
    "    if inp == '1':\n",
    "        elements.append(input(\"Enter your elements: \"))\n",
    "    elif inp == '2':\n",
    "        elements.remove(input(\"Enter element to delete\"))\n",
    "    elif inp == '3' :\n",
    "                element.clear()\n",
    "    elif inp == '4' :\n",
    "            break\n",
    "    else:\n",
    "            print(\"Invalid Input\")"
   ]
  },
  {
   "cell_type": "code",
   "execution_count": null,
   "metadata": {},
   "outputs": [],
   "source": []
  }
 ],
 "metadata": {
  "kernelspec": {
   "display_name": "Python 3",
   "language": "python",
   "name": "python3"
  },
  "language_info": {
   "codemirror_mode": {
    "name": "ipython",
    "version": 3
   },
   "file_extension": ".py",
   "mimetype": "text/x-python",
   "name": "python",
   "nbconvert_exporter": "python",
   "pygments_lexer": "ipython3",
   "version": "3.7.4"
  }
 },
 "nbformat": 4,
 "nbformat_minor": 2
}
